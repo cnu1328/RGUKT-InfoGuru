{
 "cells": [
  {
   "cell_type": "code",
   "execution_count": 2,
   "metadata": {},
   "outputs": [
    {
     "name": "stdout",
     "output_type": "stream",
     "text": [
      "Training model and creating vector database...\n",
      "Vector database created and saved to disk.\n",
      "Vector database is ready for use.\n"
     ]
    }
   ],
   "source": [
    "import os\n",
    "import pickle\n",
    "from langchain_community.document_loaders import PyPDFDirectoryLoader\n",
    "from langchain.text_splitter import RecursiveCharacterTextSplitter\n",
    "from langchain_huggingface import HuggingFaceEmbeddings\n",
    "from langchain_community.vectorstores import FAISS\n",
    "from dotenv import load_dotenv\n",
    "\n",
    "load_dotenv()\n",
    "os.environ[\"HF_TOKEN\"] = os.getenv(\"HF_TOKEN\")\n",
    "\n",
    "# Set up embeddings\n",
    "embeddings = HuggingFaceEmbeddings(model_name=\"all-MiniLM-L6-v2\")\n",
    "\n",
    "# File paths for FAISS index and metadata\n",
    "DATASET_PATH = \"rguktBasarDataset\"\n",
    "TRAINED_DATA_PATH = \"trainedData\"\n",
    "INDEX_FILE = os.path.join(TRAINED_DATA_PATH, \"faiss_index.faiss\")\n",
    "METADATA_FILE = os.path.join(TRAINED_DATA_PATH, \"faiss_metadata.pkl\")\n",
    "\n",
    "os.makedirs(TRAINED_DATA_PATH, exist_ok=True)\n",
    "\n",
    "\n",
    "# Function to create and save the vector database\n",
    "def create_and_save_vector_database():\n",
    "    print(\"Training model and creating vector database...\")\n",
    "\n",
    "    # Load documents from the dataset directory\n",
    "    loader = PyPDFDirectoryLoader(DATASET_PATH)\n",
    "    docs = loader.load()\n",
    "\n",
    "    # Split documents into manageable chunks\n",
    "    text_splitter = RecursiveCharacterTextSplitter(chunk_size=2000, chunk_overlap=500)\n",
    "    final_documents = text_splitter.split_documents(docs)\n",
    "\n",
    "    # Create FAISS vector database\n",
    "    vector_store = FAISS.from_documents(final_documents, embeddings)\n",
    "\n",
    "    # Save the FAISS index and metadata\n",
    "    vector_store.save_local(INDEX_FILE)\n",
    "    with open(METADATA_FILE, \"wb\") as f:\n",
    "        pickle.dump(final_documents, f)\n",
    "\n",
    "    print(\"Vector database created and saved to disk.\")\n",
    "\n",
    "\n",
    "if __name__ == \"__main__\":\n",
    "    create_and_save_vector_database()\n",
    "    # # Check if FAISS index and metadata exist\n",
    "    # if os.path.exists(INDEX_FILE) and os.path.exists(METADATA_FILE):\n",
    "    #     print(\"Pre-trained FAISS index found. Loading...\")\n",
    "    # else:\n",
    "    #     print(\"No pre-trained FAISS index found. Creating a new one...\")\n",
    "    #     create_and_save_vector_database()\n",
    "        \n",
    "    print(\"Vector database is ready for use.\")\n"
   ]
  }
 ],
 "metadata": {
  "kernelspec": {
   "display_name": "venv",
   "language": "python",
   "name": "python3"
  },
  "language_info": {
   "codemirror_mode": {
    "name": "ipython",
    "version": 3
   },
   "file_extension": ".py",
   "mimetype": "text/x-python",
   "name": "python",
   "nbconvert_exporter": "python",
   "pygments_lexer": "ipython3",
   "version": "3.12.0"
  }
 },
 "nbformat": 4,
 "nbformat_minor": 2
}
