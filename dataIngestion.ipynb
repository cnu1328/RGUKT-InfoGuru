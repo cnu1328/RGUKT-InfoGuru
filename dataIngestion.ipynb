{
 "cells": [
  {
   "cell_type": "code",
   "execution_count": 2,
   "metadata": {},
   "outputs": [
    {
     "name": "stderr",
     "output_type": "stream",
     "text": [
      "USER_AGENT environment variable not set, consider setting it to identify your requests.\n"
     ]
    }
   ],
   "source": [
    "from langchain_community.document_loaders import WebBaseLoader  #  Load web content into LangChain workflows.\n",
    "import bs4            # Parse and scrape HTML or XML data.\n",
    "from fpdf import FPDF # Generate PDF files programmatically.\n",
    "import os             # Manage file system and environment operations."
   ]
  },
  {
   "cell_type": "code",
   "execution_count": 3,
   "metadata": {},
   "outputs": [],
   "source": [
    "# Function to clean the content\n",
    "def clean_content(content):\n",
    "    cleaned_content = []\n",
    "    for line in content:\n",
    "        # Remove leading/trailing spaces and condense multiple spaces\n",
    "        line = \" \".join(line.split())\n",
    "        if line:  \n",
    "            cleaned_content.append(line)\n",
    "    return cleaned_content"
   ]
  },
  {
   "cell_type": "code",
   "execution_count": 4,
   "metadata": {},
   "outputs": [],
   "source": [
    "# Function to save content to a PDF file\n",
    "def save_to_pdf(content, folder_name, file_name):\n",
    "    os.makedirs(folder_name, exist_ok=True)\n",
    "\n",
    "    pdf = FPDF()\n",
    "    pdf.set_auto_page_break(auto=True, margin=15)\n",
    "    pdf.add_page()\n",
    "    pdf.set_font(\"Arial\", size=12)\n",
    "\n",
    "    for line in content:\n",
    "        try:\n",
    "            line = line.encode('latin-1', 'replace').decode('latin-1')\n",
    "        except UnicodeEncodeError:\n",
    "            line = \"Invalid Characters Detected\"\n",
    "        pdf.multi_cell(0, 10, line.strip())\n",
    "\n",
    "    output_path = os.path.join(folder_name, file_name)\n",
    "    pdf.output(output_path)\n",
    "    print(f\"PDF saved at {output_path}\")\n",
    "    "
   ]
  },
  {
   "cell_type": "code",
   "execution_count": 5,
   "metadata": {},
   "outputs": [],
   "source": [
    "# Scrape the data for a specific dataset\n",
    "def scrape_dataset(dataset_name, urls, classes):\n",
    "    try:\n",
    "        print(f\"Scraping data for {dataset_name}...\")\n",
    "        all_content = []\n",
    "\n",
    "        for url in urls:\n",
    "            try:\n",
    "                loader = WebBaseLoader(\n",
    "                    web_paths=[url],\n",
    "                    bs_kwargs=dict(parse_only=bs4.SoupStrainer(class_=classes))\n",
    "                )\n",
    "                documents = loader.load()\n",
    "                raw_content = [doc.page_content for doc in documents]\n",
    "\n",
    "                if not raw_content:\n",
    "                    print(f\"No content found for URL: {url}. Skipping.\")\n",
    "                    continue\n",
    "\n",
    "                all_content.extend(raw_content)\n",
    "            except Exception as url_error:\n",
    "                print(f\"Error scraping URL {url}: {url_error}. Skipping.\")\n",
    "\n",
    "        if not all_content:\n",
    "            print(f\"No valid content found for {dataset_name}. Skipping PDF generation.\")\n",
    "            return\n",
    "\n",
    "        cleaned_content = clean_content(all_content)\n",
    "\n",
    "        # Save content to a PDF in the dataset's folder\n",
    "        save_to_pdf(cleaned_content, \"rguktBasarDataset\", f\"{dataset_name}.pdf\")\n",
    "    except Exception as e:\n",
    "        print(f\"Error scraping {dataset_name}: {e}\")\n"
   ]
  },
  {
   "cell_type": "code",
   "execution_count": 6,
   "metadata": {},
   "outputs": [
    {
     "name": "stdout",
     "output_type": "stream",
     "text": [
      "Scraping data for about_rgukt...\n",
      "PDF saved at rguktBasarDataset\\about_rgukt.pdf\n",
      "Scraping data for cse...\n",
      "PDF saved at rguktBasarDataset\\cse.pdf\n"
     ]
    }
   ],
   "source": [
    "\n",
    "# Main function to manage all datasets\n",
    "def scrape_all_datasets():\n",
    "    datasets = {\n",
    "        \"about_rgukt\": {\n",
    "            \"urls\": [\n",
    "                'http://www.rgukt.ac.in/about-introduction.html',\n",
    "                'http://www.rgukt.ac.in/vision-mission.html',\n",
    "                'http://www.rgukt.ac.in/stu-campuslife.html',\n",
    "                'http://www.rgukt.ac.in/anti-ragging.html',\n",
    "            ],\n",
    "            \"classes\": [\"page-row\"]\n",
    "        },\n",
    "        \"cse\": {\n",
    "            \"urls\": [\n",
    "                \"http://www.rgukt.ac.in/cse.html\",\n",
    "                \"http://www.rgukt.ac.in/cse-faculty.html\",\n",
    "            ],\n",
    "            \"classes\": ['panel-body']\n",
    "        },\n",
    "    }\n",
    "\n",
    "    for dataset_name, details in datasets.items():\n",
    "        scrape_dataset(dataset_name, details[\"urls\"], details[\"classes\"])\n",
    "\n",
    "if __name__ == \"__main__\":\n",
    "    scrape_all_datasets()\n"
   ]
  }
 ],
 "metadata": {
  "kernelspec": {
   "display_name": "venv",
   "language": "python",
   "name": "python3"
  },
  "language_info": {
   "codemirror_mode": {
    "name": "ipython",
    "version": 3
   },
   "file_extension": ".py",
   "mimetype": "text/x-python",
   "name": "python",
   "nbconvert_exporter": "python",
   "pygments_lexer": "ipython3",
   "version": "3.12.0"
  }
 },
 "nbformat": 4,
 "nbformat_minor": 2
}
